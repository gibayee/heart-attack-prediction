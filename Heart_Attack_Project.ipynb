{
 "cells": [
  {
   "cell_type": "markdown",
   "metadata": {},
   "source": [
    "# Import Libraries"
   ]
  },
  {
   "cell_type": "code",
   "execution_count": null,
   "metadata": {},
   "outputs": [],
   "source": [
    "import pandas as pd\n",
    "import numpy as np\n",
    "import matplotlib.pyplot as plt\n",
    "import seaborn as sns\n",
    "import math\n",
    "from scipy import stats\n",
    "from sklearn.preprocessing import StandardScaler\n",
    "from sklearn.model_selection import train_test_split, GridSearchCV\n",
    "from sklearn.linear_model import LogisticRegression\n",
    "from sklearn.metrics import classification_report, accuracy_score, confusion_matrix,ConfusionMatrixDisplay, precision_recall_fscore_support, precision_score, recall_score, f1_score\n",
    "from sklearn.neighbors import KNeighborsClassifier\n",
    "from sklearn.svm import SVC\n",
    "import plotly.express as px\n",
    "from ipywidgets import interact, widgets\n",
    "from sklearn import tree\n",
    "from sklearn.tree import DecisionTreeClassifier\n",
    "from sklearn.ensemble import RandomForestClassifier"
   ]
  },
  {
   "cell_type": "markdown",
   "metadata": {},
   "source": [
    "# Data"
   ]
  },
  {
   "cell_type": "code",
   "execution_count": null,
   "metadata": {},
   "outputs": [],
   "source": [
    "rs=123"
   ]
  },
  {
   "cell_type": "code",
   "execution_count": null,
   "metadata": {},
   "outputs": [],
   "source": [
    "data=pd.read_csv(r\"C:\\Users\\HP\\Desktop\\Online Courses\\IBM Machine Learning Engineer\\2. Classification\\All data\\heartattack.csv\", na_values='?')"
   ]
  },
  {
   "cell_type": "markdown",
   "metadata": {},
   "source": [
    "# Exploring and Cleaning Data"
   ]
  },
  {
   "cell_type": "code",
   "execution_count": null,
   "metadata": {},
   "outputs": [],
   "source": [
    "# columns\n",
    "data.columns"
   ]
  },
  {
   "cell_type": "code",
   "execution_count": null,
   "metadata": {},
   "outputs": [],
   "source": [
    "# general info of columns\n",
    "data.info()"
   ]
  },
  {
   "cell_type": "code",
   "execution_count": null,
   "metadata": {},
   "outputs": [],
   "source": [
    "# summary of data types\n",
    "data.dtypes.value_counts()"
   ]
  },
  {
   "cell_type": "code",
   "execution_count": null,
   "metadata": {},
   "outputs": [],
   "source": [
    "# missing values\n",
    "data.isnull().sum()"
   ]
  },
  {
   "cell_type": "code",
   "execution_count": null,
   "metadata": {},
   "outputs": [],
   "source": [
    "# To keep the cleaning process simple, we’ll remove:\n",
    "# the columns with many missing values, which are slope, ca, thal.\n",
    "# the rows with missing values.\n",
    "\n",
    "data = data.drop(['slope', 'ca', 'thal'], axis=1)\n",
    "\n",
    "data = data.dropna().copy()"
   ]
  },
  {
   "cell_type": "code",
   "execution_count": null,
   "metadata": {},
   "outputs": [],
   "source": [
    "data.isnull().sum()"
   ]
  },
  {
   "cell_type": "code",
   "execution_count": null,
   "metadata": {},
   "outputs": [],
   "source": [
    "# #check data types of columns with missing values\n",
    "# columns=list(data.columns)\n",
    "# col_mv=[]\n",
    "# for col in columns:\n",
    "#     if data[col].isnull().sum()>0:\n",
    "#         col_mv.append(col)\n",
    "# col_mv\n",
    "# data[col_mv].dtypes"
   ]
  },
  {
   "cell_type": "code",
   "execution_count": null,
   "metadata": {},
   "outputs": [],
   "source": [
    "# # replace all missing values with means of respective columns\n",
    "# for col in col_mv:\n",
    "#     data[col] = data[col].fillna(data[col].mean())\n",
    "# data.isnull().sum()"
   ]
  },
  {
   "cell_type": "code",
   "execution_count": null,
   "metadata": {},
   "outputs": [],
   "source": [
    "#outliers\n",
    "numeric_columns = list(data.select_dtypes(include=[np.number]).columns)\n",
    "len(numeric_columns)"
   ]
  },
  {
   "cell_type": "code",
   "execution_count": null,
   "metadata": {},
   "outputs": [],
   "source": [
    "type(numeric_columns[0])"
   ]
  },
  {
   "cell_type": "code",
   "execution_count": null,
   "metadata": {},
   "outputs": [],
   "source": [
    "# #box plot\n",
    "# # lets resolve this issue later\n",
    "# ncols=3\n",
    "# nrows=math.ceil(len(numeric_columns)/ncols)\n",
    "# fig, axes = plt.subplots(nrows, ncols, figsize=(15, 6))  # Create subplots\n",
    "\n",
    "# for i, column in enumerate(numeric_columns):\n",
    "#     axes[i].boxplot(data[column])  # Create a box plot for the column in the i-th subplot\n",
    "#     axes[i].set_title(f'Box Plot for {column}')  # Set the title for the subplot\n",
    "#     axes[i].set_xlabel(column)  # Set the x-axis label\n",
    "\n",
    "# plt.tight_layout()  # Adjust subplot layout for better spacing\n",
    "# plt.show()  # Display the figure with subplots"
   ]
  },
  {
   "cell_type": "code",
   "execution_count": null,
   "metadata": {},
   "outputs": [],
   "source": [
    "# #using z-score\n",
    "\n",
    "# treshold=3\n",
    "# for column in numeric_columns:\n",
    "#     # Calculate the z-scores\n",
    "#     z_scores = stats.zscore(data[column])\n",
    "    \n",
    "#     # Find the rows where z-scores are greater than treshold\n",
    "#     outliers = np.abs(z_scores) > treshold\n",
    "    \n",
    "#     # Replace outliers with the mean value of the column\n",
    "#     mean_value = data[column].mean()\n",
    "#     data.loc[outliers, column] = mean_value\n",
    "\n",
    "# # Now, data contains the data with outliers replaced by the mean value for each numeric column\n",
    "data"
   ]
  },
  {
   "cell_type": "code",
   "execution_count": null,
   "metadata": {},
   "outputs": [],
   "source": [
    "# Renaming target variable\n",
    "data = data.rename(columns={'num       ': 'heart_attack'})\n",
    "\n",
    "data['heart_attack'].value_counts(dropna=False)"
   ]
  },
  {
   "cell_type": "code",
   "execution_count": null,
   "metadata": {},
   "outputs": [],
   "source": [
    "data"
   ]
  },
  {
   "cell_type": "code",
   "execution_count": null,
   "metadata": {
    "tags": [
     "parameters"
    ]
   },
   "outputs": [],
   "source": [
    "# age: age in years\n",
    "# sex: sex (1 = male; 0 = female)\n",
    "# cp: chest pain type\n",
    "# – 1: typical angina\n",
    "# – 2: atypical angina\n",
    "# – 3: non-anginal pain\n",
    "# – 4: asymptomatic\n",
    "# trestbps: resting blood pressure (in mm Hg on admission to the hospital)\n",
    "# chol: serum cholesterol in mg/dl\n",
    "# fbs: (fasting blood sugar > 120 mg/dl) (1 = true; 0 = false)\n",
    "# restecg: resting electrocardiographic results\n",
    "# – 0: normal\n",
    "# – 1: having ST-T wave abnormality (T wave inversions and/or ST elevation or depression of > 0.05 mV)\n",
    "# – 2: showing probable or definite left ventricular hypertrophy by Estes’ criteria\n",
    "# thalach: maximum heart rate achieved\n",
    "# exang: exercise-induced angina (1 = yes; 0 = no)\n",
    "# oldpeak: ST depression induced by exercise relative to rest\n"
   ]
  },
  {
   "cell_type": "markdown",
   "metadata": {},
   "source": [
    "## Transform the Categorical Variables: Creating Dummy Variables"
   ]
  },
  {
   "cell_type": "code",
   "execution_count": null,
   "metadata": {},
   "outputs": [],
   "source": [
    "### Among the five categorical variables, sex, fbs, and exang only have two levels of 0 and 1, \n",
    "# so they are already in the dummy variable format. But we still need to convert cp and restecg \n",
    "# into dummy variables\n",
    "\n",
    "print(data['cp'].value_counts(dropna=False))\n",
    "\n",
    "print(data['restecg'].value_counts(dropna=False))"
   ]
  },
  {
   "cell_type": "code",
   "execution_count": null,
   "metadata": {},
   "outputs": [],
   "source": [
    "data = pd.get_dummies(data, columns=['cp', 'restecg'], drop_first=True)\n",
    "data"
   ]
  },
  {
   "cell_type": "code",
   "execution_count": null,
   "metadata": {},
   "outputs": [],
   "source": [
    "# we can print out the numeric columns and categorical columns as numeric_cols and cat_cols below.\n",
    "\n",
    "numeric_cols = ['age', 'trestbps', 'chol', 'thalach', 'oldpeak']\n",
    "cat_cols = list(set(data.columns) - set(numeric_cols) - {'target'})\n",
    "cat_cols.sort()\n",
    "\n",
    "print(numeric_cols)\n",
    "print(cat_cols)"
   ]
  },
  {
   "cell_type": "markdown",
   "metadata": {},
   "source": [
    "## Transform the Numerical Variables: Scaling"
   ]
  },
  {
   "cell_type": "code",
   "execution_count": null,
   "metadata": {},
   "outputs": [],
   "source": [
    "scaler = StandardScaler()\n",
    "for i in numeric_cols:\n",
    "    data[i]=scaler.fit_transform(data[[i]])"
   ]
  },
  {
   "cell_type": "markdown",
   "metadata": {},
   "source": [
    "## Defining Target and Features"
   ]
  },
  {
   "cell_type": "code",
   "execution_count": null,
   "metadata": {},
   "outputs": [],
   "source": [
    "y=data['heart_attack']\n",
    "X=data.drop(columns='heart_attack')"
   ]
  },
  {
   "cell_type": "markdown",
   "metadata": {},
   "source": [
    "## Split Training and Test Datasets"
   ]
  },
  {
   "cell_type": "markdown",
   "metadata": {},
   "source": [
    "when the dataset is imbalanced, it’s good practice to do stratified sampling. In this way, both the training and test datasets will have similar portions of the target classes as the complete dataset."
   ]
  },
  {
   "cell_type": "code",
   "execution_count": null,
   "metadata": {},
   "outputs": [],
   "source": [
    "# First, let's split the training and testing dataset\n",
    "X_train, X_test, y_train, y_test = train_test_split(X, y, test_size=0.2, stratify=y, random_state =rs)"
   ]
  },
  {
   "cell_type": "code",
   "execution_count": null,
   "metadata": {},
   "outputs": [],
   "source": [
    "X_train.shape, X_test.shape"
   ]
  },
  {
   "cell_type": "markdown",
   "metadata": {},
   "source": [
    "## Define Logistic Regression Model"
   ]
  },
  {
   "cell_type": "code",
   "execution_count": null,
   "metadata": {},
   "outputs": [],
   "source": [
    "model_lr = LogisticRegression(penalty='none') # logistic regression with no penalty term in the cost function.\n",
    "model_lr.fit(X_train,y_train)"
   ]
  },
  {
   "cell_type": "markdown",
   "metadata": {},
   "source": [
    "## Evaluating Model "
   ]
  },
  {
   "cell_type": "code",
   "execution_count": null,
   "metadata": {},
   "outputs": [],
   "source": [
    "predictions_lr=model_lr.predict(X_test)"
   ]
  },
  {
   "cell_type": "code",
   "execution_count": null,
   "metadata": {},
   "outputs": [],
   "source": [
    "def evaluations(y, yhat):\n",
    "    accuracy = accuracy_score(y_test, predictions_lr)\n",
    "    precision, recall, f_beta, _ = precision_recall_fscore_support(y_test, predictions_lr)\n",
    "    print('Accuracy Score = {}'.format(accuracy))\n",
    "    print('Precision Score = {}'.format(precision))\n",
    "    print('Recall Score = {}'.format(recall))\n",
    "    print('f_beta Score = {}'.format(f_beta))\n",
    "evaluations(y_test, predictions_lr)"
   ]
  },
  {
   "cell_type": "code",
   "execution_count": null,
   "metadata": {},
   "outputs": [],
   "source": [
    "cm_lr=confusion_matrix(y_test, predictions_lr, normalize='true')"
   ]
  },
  {
   "cell_type": "code",
   "execution_count": null,
   "metadata": {},
   "outputs": [],
   "source": [
    "sns.set_context('talk')\n",
    "disp = ConfusionMatrixDisplay(confusion_matrix=cm_lr,display_labels=model_lr.classes_)\n",
    "disp.plot()\n",
    "plt.show()"
   ]
  },
  {
   "cell_type": "code",
   "execution_count": null,
   "metadata": {},
   "outputs": [],
   "source": [
    "sns.set_context('talk')\n",
    "disp = ConfusionMatrixDisplay(confusion_matrix=cm_lr,display_labels=['No Heart Attack','Heart Attack'])\n",
    "disp.plot()\n",
    "plt.show()"
   ]
  },
  {
   "cell_type": "code",
   "execution_count": null,
   "metadata": {},
   "outputs": [],
   "source": [
    "print(classification_report(y_test, predictions_lr))"
   ]
  },
  {
   "cell_type": "markdown",
   "metadata": {},
   "source": [
    "## Interpretation of Results"
   ]
  },
  {
   "cell_type": "code",
   "execution_count": null,
   "metadata": {},
   "outputs": [],
   "source": [
    "model_lr.coef_"
   ]
  },
  {
   "cell_type": "code",
   "execution_count": null,
   "metadata": {},
   "outputs": [],
   "source": [
    "\n",
    "# create a data frame with the feature names and coefficients\n",
    "coef_df = pd.DataFrame(zip(X.columns, model_lr.coef_[0]), columns=['Variable', 'Coefficient'])\n",
    "# print the data frame\n",
    "print(coef_df)\n"
   ]
  },
  {
   "cell_type": "markdown",
   "metadata": {},
   "source": [
    "## KNN MODEL"
   ]
  },
  {
   "cell_type": "code",
   "execution_count": null,
   "metadata": {},
   "outputs": [],
   "source": [
    "# Estimate KNN model and report outcomes\n",
    "knn = KNeighborsClassifier(n_neighbors=5)\n",
    "knn = knn.fit(X_train, y_train)\n",
    "predictions_knn = knn.predict(X_test)\n",
    "# Preciision, recall, f-score from the multi-class support function\n",
    "print(classification_report(y_test, predictions_knn))\n",
    "print('Accuracy score: ', round(accuracy_score(y_test, predictions_knn), 2))\n",
    "print('F1 Score: ', round(f1_score(y_test, predictions_knn), 2))"
   ]
  },
  {
   "cell_type": "code",
   "execution_count": null,
   "metadata": {},
   "outputs": [],
   "source": [
    "cm_knn=confusion_matrix(y_test, predictions_knn, normalize='true')\n",
    "\n",
    "sns.set_context('talk')\n",
    "disp = ConfusionMatrixDisplay(confusion_matrix=cm_knn,display_labels=['No Heart Attack','Heart Attack'])\n",
    "disp.plot()\n",
    "plt.show()"
   ]
  },
  {
   "cell_type": "markdown",
   "metadata": {},
   "source": [
    "## Choosing Optimal k"
   ]
  },
  {
   "cell_type": "code",
   "execution_count": null,
   "metadata": {},
   "outputs": [],
   "source": [
    "max_k = 40\n",
    "f1_scores = list()\n",
    "error_rates = list() # 1-accuracy\n",
    "\n",
    "for k in range(1, max_k):\n",
    "    \n",
    "    knn = KNeighborsClassifier(n_neighbors=k, weights='distance')\n",
    "    knn = knn.fit(X_train, y_train)\n",
    "    \n",
    "    y_pred = knn.predict(X_test)\n",
    "    f1 = f1_score(y_pred, y_test)\n",
    "    f1_scores.append((k, round(f1_score(y_test, y_pred), 4)))\n",
    "    error = 1-round(accuracy_score(y_test, y_pred), 4)\n",
    "    error_rates.append((k, error))\n",
    "    \n",
    "f1_results = pd.DataFrame(f1_scores, columns=['K', 'F1 Score'])\n",
    "error_results = pd.DataFrame(error_rates, columns=['K', 'Error Rate'])"
   ]
  },
  {
   "cell_type": "code",
   "execution_count": null,
   "metadata": {},
   "outputs": [],
   "source": [
    "# Plot F1 results\n",
    "sns.set_context('talk')\n",
    "sns.set_style('ticks')\n",
    "\n",
    "plt.figure(dpi=300)\n",
    "ax = f1_results.set_index('K').plot(figsize=(12, 12), linewidth=6)\n",
    "ax.set(xlabel='K', ylabel='F1 Score')\n",
    "ax.set_xticks(range(1, max_k, 2));\n",
    "plt.title('KNN F1 Score')\n",
    "plt.savefig('knn_f1.png')"
   ]
  },
  {
   "cell_type": "code",
   "execution_count": null,
   "metadata": {},
   "outputs": [],
   "source": [
    "# Plot Accuracy (Error Rate) results\n",
    "sns.set_context('talk')\n",
    "sns.set_style('ticks')\n",
    "\n",
    "plt.figure(dpi=300)\n",
    "ax = error_results.set_index('K').plot(figsize=(12, 12), linewidth=6)\n",
    "ax.set(xlabel='K', ylabel='Error Rate')\n",
    "ax.set_xticks(range(1, max_k, 2))\n",
    "plt.title('KNN Elbow Curve')\n",
    "plt.savefig('knn_elbow.png')"
   ]
  },
  {
   "cell_type": "markdown",
   "metadata": {},
   "source": [
    "## Support Vector Machines (SVM)"
   ]
  },
  {
   "cell_type": "code",
   "execution_count": null,
   "metadata": {},
   "outputs": [],
   "source": [
    "model_svm = SVC(kernel='linear', gamma=0.1, C=1)\n",
    "model_svm.fit(X_train, y_train)\n"
   ]
  },
  {
   "cell_type": "code",
   "execution_count": null,
   "metadata": {},
   "outputs": [],
   "source": [
    "\n",
    "predictions_svm = model_svm.predict(X_test)\n",
    "\n",
    "cm_svm=confusion_matrix(y_test, predictions_svm, normalize='true')\n",
    "\n",
    "sns.set_context('talk')\n",
    "disp = ConfusionMatrixDisplay(confusion_matrix=cm_svm,display_labels=['No Heart Attack','Heart Attack'])\n",
    "disp.plot()\n",
    "plt.show()"
   ]
  },
  {
   "cell_type": "code",
   "execution_count": null,
   "metadata": {},
   "outputs": [],
   "source": [
    "# Finding the best hyperparameters\n",
    "params_svm = {\n",
    "    'C': [0.1, 1, 10, 100, 1000],\n",
    "    'gamma': [1, 0.1, 0.01, 0.001, 0.0001],\n",
    "    'kernel': ['rbf','linear']\n",
    "}\n",
    "\n",
    "search_smv = GridSearchCV(\n",
    "    estimator=SVC(),\n",
    "    param_grid=params_svm,\n",
    "    cv=5,\n",
    "    n_jobs=5,\n",
    "    verbose=1\n",
    ")\n",
    "\n",
    "model_svm=search_smv.fit(X_train, y_train)\n",
    "print(model_svm.best_params_)"
   ]
  },
  {
   "cell_type": "markdown",
   "metadata": {},
   "source": [
    "## Decision Tree"
   ]
  },
  {
   "cell_type": "code",
   "execution_count": null,
   "metadata": {},
   "outputs": [],
   "source": [
    "model_dt = DecisionTreeClassifier(random_state=42)\n",
    "model_dt = model_dt.fit(X_train, y_train)\n",
    "\n",
    "predictions_dt=model_dt.predict(X_test)\n",
    "\n",
    "cm_dt=confusion_matrix(y_test, predictions_dt, normalize='true')\n",
    "\n",
    "sns.set_context('talk')\n",
    "disp = ConfusionMatrixDisplay(confusion_matrix=cm_dt,display_labels=['No Heart Attack','Heart Attack'])\n",
    "disp.plot()\n",
    "plt.show()"
   ]
  },
  {
   "cell_type": "code",
   "execution_count": null,
   "metadata": {},
   "outputs": [],
   "source": [
    "\n",
    "param_grid = {'max_depth':range(1, model_dt.tree_.max_depth+1, 2),\n",
    "              'max_features': range(1, len(model_dt.feature_importances_)+1)}\n",
    "\n",
    "model_dt = GridSearchCV(DecisionTreeClassifier(random_state=42),\n",
    "                  param_grid=param_grid,\n",
    "                  scoring='accuracy',\n",
    "                  n_jobs=-1)\n",
    "\n",
    "model_dt = model_dt.fit(X_train, y_train)\n",
    "\n",
    "# model_dt.best_estimator_.tree_.node_count, model_dt.best_estimator_.tree_.max_depth\n",
    "\n",
    "predictions_dt=model_dt.predict(X_test)\n",
    "\n",
    "cm_dt=confusion_matrix(y_test, predictions_dt, normalize='true')\n",
    "\n",
    "sns.set_context('talk')\n",
    "disp = ConfusionMatrixDisplay(confusion_matrix=cm_dt,display_labels=['No Heart Attack','Heart Attack'])\n",
    "disp.plot()\n",
    "plt.show()"
   ]
  },
  {
   "cell_type": "markdown",
   "metadata": {},
   "source": [
    "## Random Forest"
   ]
  },
  {
   "cell_type": "code",
   "execution_count": null,
   "metadata": {},
   "outputs": [],
   "source": [
    "n_estimators=20\n",
    "M_features=X.shape[1]\n",
    "max_features=round(np.sqrt(M_features))-1\n",
    "max_features\n",
    "\n",
    "model_rf = RandomForestClassifier( max_features=max_features,n_estimators=n_estimators, random_state=0)\n",
    "\n",
    "model_rf.fit(X_train,y_train)\n",
    "model_rf.get_params().keys()"
   ]
  },
  {
   "cell_type": "markdown",
   "metadata": {},
   "source": [
    "### Grid Search"
   ]
  },
  {
   "cell_type": "code",
   "execution_count": null,
   "metadata": {},
   "outputs": [],
   "source": [
    "model_rf = RandomForestClassifier()"
   ]
  },
  {
   "cell_type": "code",
   "execution_count": null,
   "metadata": {},
   "outputs": [],
   "source": [
    "\n",
    "param_grid = {'n_estimators': [2*n+1 for n in range(20)],\n",
    "             'max_depth' : [2*n+1 for n in range(10) ],\n",
    "             'max_features':[\"auto\", \"sqrt\", \"log2\"]}\n",
    "\n",
    "model_rf_gs = GridSearchCV(estimator=model_rf, param_grid=param_grid,scoring='accuracy')\n",
    "model_rf_gs.fit(X_train, y_train)\n",
    "\n",
    "#model_rf_gs.best_score_\n"
   ]
  },
  {
   "cell_type": "code",
   "execution_count": null,
   "metadata": {},
   "outputs": [],
   "source": [
    "\n",
    "predictions_rf=model_rf_gs.predict(X_test)"
   ]
  },
  {
   "cell_type": "code",
   "execution_count": null,
   "metadata": {},
   "outputs": [],
   "source": [
    "cm_rf=confusion_matrix(y_test, predictions_rf, normalize='true')\n",
    "\n",
    "sns.set_context('talk')\n",
    "disp = ConfusionMatrixDisplay(confusion_matrix=cm_rf,display_labels=['No Heart Attack','Heart Attack'])\n",
    "disp.plot()\n",
    "plt.show()"
   ]
  },
  {
   "cell_type": "code",
   "execution_count": null,
   "metadata": {},
   "outputs": [],
   "source": [
    "metrics={}\n",
    "metrics['Logistic Regression']=[accuracy_score(y_test, predictions_lr),precision_score(y_test, predictions_lr),\n",
    "                           f1_score(y_test, predictions_lr), recall_score(y_test, predictions_lr)]\n",
    "metrics['K-Nearest Neigbour']= [accuracy_score(y_test, predictions_knn),precision_score(y_test, predictions_knn),\n",
    "                           f1_score(y_test, predictions_knn), recall_score(y_test, predictions_knn)]\n",
    "metrics['Support Vector Machines']= [accuracy_score(y_test, predictions_lr),precision_score(y_test, predictions_lr),\n",
    "                           f1_score(y_test, predictions_lr), recall_score(y_test, predictions_lr)]\n",
    "# metrics['Decision Tree']= [accuracy_score(y_test, predictions_dt),precision_score(y_test, predictions_dt),\n",
    "#                            f1_score(y_test, predictions_dt), recall_score(y_test, predictions_dt)]\n",
    "metrics['Random Forest']= [accuracy_score(y_test, predictions_rf),precision_score(y_test, predictions_rf),\n",
    "                           f1_score(y_test, predictions_rf), recall_score(y_test, predictions_rf)]\n",
    "\n",
    "\n",
    "df=pd.DataFrame(metrics).T. rename(columns={0:'Accuracy', 1:'Precision', 2:'F', 3:'Recall'})\n",
    "df\n"
   ]
  },
  {
   "cell_type": "code",
   "execution_count": null,
   "metadata": {},
   "outputs": [],
   "source": [
    "sex_lable={'Male': \"1\", 'Female':\"0\"}\n",
    "exang_lable={'Yes': \"1\", 'No':\"0\"}\n",
    "fbs_lable={'True':'1', 'False':'0'}\n",
    "@interact\n",
    "def predictions(sex=list(sex_lable.keys()),\n",
    "                Exercise_induced_angina=list(exang_lable.keys()),\n",
    "                High_fbs=list(fbs_lable.keys()),\n",
    "                age=widgets.IntSlider(min=0, max=200, step=1, value=0),\n",
    "                resting_BP = widgets.FloatText(value=0.0),\n",
    "                Cholesterol = widgets.FloatText(value=0.0),\n",
    "                Max_Heart_Rate = widgets.FloatText(value=0.0),\n",
    "                ST_Depression = widgets.FloatText(value=0.0),\n",
    "                Moderate_restecg=list(X['restecg_1.0'].unique()),\n",
    "                High_restecg=list(X['restecg_2.0'].unique()),\n",
    "                Chest_pains_atypical_angina=list(X['cp_2'].unique()),\n",
    "                Chest_pains_non_anginal_pain=list(X['cp_3'].unique()),\n",
    "                Chest_pains_asymptomatic=list(X['cp_4'].unique())):\n",
    "    sex_dummy=int(sex_lable[sex])\n",
    "    exang_dummy=int(exang_lable[Exercise_induced_angina])\n",
    "    fbs_dummy=int(fbs_lable[High_fbs])\n",
    "    user_inputs=[age, sex_dummy, resting_BP, Cholesterol, fbs_dummy, Max_Heart_Rate, exang_dummy, \n",
    "                 ST_Depression, Chest_pains_atypical_angina, Chest_pains_non_anginal_pain, Chest_pains_asymptomatic, \n",
    "                 Moderate_restecg, High_restecg]\n",
    "    user_inputs_array=np.array(user_inputs)\n",
    "    user_inputs_reshaped=user_inputs_array.reshape(1, -1)\n",
    "    heart_attack=knn.predict(np.array(user_inputs_reshaped))[0]\n",
    "    if heart_attack==0:\n",
    "        heart_attack=\"HEART ATTACK\"\n",
    "    else:\n",
    "        heart_attack = \"NO HEART ATTACK\"\n",
    "    print()\n",
    "    print(\"PREDICTION: {}\".format(heart_attack))\n",
    "    print(\"PRECISION SCORE: {}%\".format(round(precision_score(y_test, predictions_knn),2)))\n",
    "    \n",
    "    \n",
    "    #return user_inputs\n",
    "     "
   ]
  },
  {
   "cell_type": "code",
   "execution_count": null,
   "metadata": {},
   "outputs": [],
   "source": [
    "# age: age in years\n",
    "# sex: sex (1 = male; 0 = female)\n",
    "# cp: chest pain type\n",
    "# – 1: typical angina\n",
    "# – 2: atypical angina\n",
    "# – 3: non-anginal pain\n",
    "# – 4: asymptomatic\n",
    "# trestbps: resting blood pressure (in mm Hg on admission to the hospital)\n",
    "# chol: serum cholesterol in mg/dl\n",
    "# fbs: (fasting blood sugar > 120 mg/dl) (1 = true; 0 = false)\n",
    "# restecg: resting electrocardiographic results\n",
    "# – 0: normal\n",
    "# – 1: having ST-T wave abnormality (T wave inversions and/or ST elevation or depression of > 0.05 mV)\n",
    "# – 2: showing probable or definite left ventricular hypertrophy by Estes’ criteria\n",
    "# thalach: maximum heart rate achieved\n",
    "# exang: exercise-induced angina (1 = yes; 0 = no)\n",
    "# oldpeak: ST depression induced by exercise relative to rest\n"
   ]
  }
 ],
 "metadata": {
  "kernelspec": {
   "display_name": "Python 3",
   "language": "python",
   "name": "python3"
  },
  "language_info": {
   "codemirror_mode": {
    "name": "ipython",
    "version": 3
   },
   "file_extension": ".py",
   "mimetype": "text/x-python",
   "name": "python",
   "nbconvert_exporter": "python",
   "pygments_lexer": "ipython3",
   "version": "3.11.7"
  }
 },
 "nbformat": 4,
 "nbformat_minor": 2
}
